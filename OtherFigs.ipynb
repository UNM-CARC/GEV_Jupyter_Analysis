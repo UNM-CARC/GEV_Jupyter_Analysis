{
 "cells": [
  {
   "cell_type": "code",
   "execution_count": 1,
   "metadata": {},
   "outputs": [],
   "source": [
    "import analysis\n",
    "import pandas as pd\n",
    "import numpy as np\n",
    "import pickle\n",
    "\n",
    "import matplotlib.pyplot as plt"
   ]
  },
  {
   "cell_type": "code",
   "execution_count": 2,
   "metadata": {},
   "outputs": [],
   "source": [
    "df_All = analysis.getAllExperiments()\n",
    "\n",
    "coriRange = list( range( 85, 235 ) ) + list( range( 330, 450 ) )\n",
    "df_Cori = df_All.loc[ df_All[ 'Experiment' ].isin( coriRange ) ]\n",
    "\n",
    "attawayRange = list( range( 235, 330 ) ) + list( range( 450, 550 ) )\n",
    "df_Attaway = df_All.loc[ df_All[ 'Experiment' ].isin( attawayRange ) ]"
   ]
  },
  {
   "cell_type": "code",
   "execution_count": 3,
   "metadata": {},
   "outputs": [
    {
     "name": "stdout",
     "output_type": "stream",
     "text": [
      "Number of Cori Runs: 467\n",
      "Number of Attaway Runs: 330\n"
     ]
    }
   ],
   "source": [
    "df_Cori = df_Cori[(df_Cori['rabbit_workload'] == 0)]\n",
    "\n",
    "df_Attaway = df_Attaway[(df_Attaway['rabbit_workload'] == 0)]\n",
    "\n",
    "drop = []\n",
    "for run in range(0, len(df_Attaway)):\n",
    "    row = df_Attaway.iloc[run]\n",
    "    \n",
    "    if row['workload'] == 'hpcg' or row['workload'] == 'lammps':\n",
    "        if row['stencil_size'] != 0:\n",
    "            drop.append(run)\n",
    "\n",
    "df_Attaway = df_Attaway.drop(df_Attaway.index[drop])\n",
    "    \n",
    "print(\"Number of Cori Runs:\", len(df_Cori))\n",
    "print(\"Number of Attaway Runs:\", len(df_Attaway))"
   ]
  },
  {
   "cell_type": "code",
   "execution_count": null,
   "metadata": {},
   "outputs": [],
   "source": [
    "nodeset = set()\n",
    "nodedict = dict()\n",
    "\n",
    "for run in range(0, len(df_Cori)):\n",
    "    data = analysis.getData(df_Cori.iloc[run])\n",
    "    nodes =  data['node'].unique()\n",
    "    \n",
    "    \n",
    "    for node in nodes:\n",
    "        if node not in nodedict:\n",
    "            nodedict[node] = 1\n",
    "        else:\n",
    "            nodedict[node] += 1\n",
    "            \n",
    "        nodeset.add(node)\n",
    "    \n",
    "    print(\"Run:\", run, \"\\tNodeset Size:\", len(nodeset))\n",
    "\n",
    "print(\"Unique Cori Haswell Nodes:\", len(nodeset), \"/\", 2388)\n",
    "\n",
    "nodes_Cori = { int(k.replace('nid', '')): v for k, v in nodes_Cori.items() }\n",
    "\n",
    "with open('Results/CoriNodes.dict', 'wb') as f:\n",
    "    pickle.dump(nodedict, f, pickle.HIGHEST_PROTOCOL)"
   ]
  },
  {
   "cell_type": "code",
   "execution_count": 5,
   "metadata": {},
   "outputs": [
    {
     "name": "stdout",
     "output_type": "stream",
     "text": [
      "Run: 0 \tNodeset Size: 8\n",
      "Run: 1 \tNodeset Size: 8\n",
      "Run: 2 \tNodeset Size: 8\n",
      "Run: 3 \tNodeset Size: 8\n",
      "Run: 4 \tNodeset Size: 8\n",
      "Run: 5 \tNodeset Size: 8\n",
      "Run: 6 \tNodeset Size: 8\n",
      "Run: 7 \tNodeset Size: 8\n",
      "Run: 8 \tNodeset Size: 8\n",
      "Run: 9 \tNodeset Size: 8\n",
      "Run: 10 \tNodeset Size: 8\n",
      "Run: 11 \tNodeset Size: 8\n",
      "Run: 12 \tNodeset Size: 8\n",
      "Run: 13 \tNodeset Size: 8\n",
      "Run: 14 \tNodeset Size: 8\n",
      "Run: 15 \tNodeset Size: 8\n",
      "Run: 16 \tNodeset Size: 8\n",
      "Run: 17 \tNodeset Size: 8\n",
      "Run: 18 \tNodeset Size: 16\n",
      "Run: 19 \tNodeset Size: 16\n",
      "Run: 20 \tNodeset Size: 16\n",
      "Run: 21 \tNodeset Size: 16\n",
      "Run: 22 \tNodeset Size: 16\n",
      "Run: 23 \tNodeset Size: 16\n",
      "Run: 24 \tNodeset Size: 16\n",
      "Run: 25 \tNodeset Size: 16\n",
      "Run: 26 \tNodeset Size: 16\n",
      "Run: 27 \tNodeset Size: 16\n",
      "Run: 28 \tNodeset Size: 16\n",
      "Run: 29 \tNodeset Size: 16\n",
      "Run: 30 \tNodeset Size: 16\n",
      "Run: 31 \tNodeset Size: 16\n",
      "Run: 32 \tNodeset Size: 16\n",
      "Run: 33 \tNodeset Size: 16\n",
      "Run: 34 \tNodeset Size: 16\n",
      "Run: 35 \tNodeset Size: 16\n",
      "Run: 36 \tNodeset Size: 16\n",
      "Run: 37 \tNodeset Size: 16\n",
      "Run: 38 \tNodeset Size: 16\n",
      "Run: 39 \tNodeset Size: 16\n",
      "Run: 40 \tNodeset Size: 32\n",
      "Run: 41 \tNodeset Size: 32\n",
      "Run: 42 \tNodeset Size: 32\n",
      "Run: 43 \tNodeset Size: 32\n",
      "Run: 44 \tNodeset Size: 32\n",
      "Run: 45 \tNodeset Size: 32\n",
      "Run: 46 \tNodeset Size: 32\n",
      "Run: 47 \tNodeset Size: 32\n",
      "Run: 48 \tNodeset Size: 32\n",
      "Run: 49 \tNodeset Size: 32\n",
      "Run: 50 \tNodeset Size: 32\n",
      "Run: 51 \tNodeset Size: 32\n",
      "Run: 52 \tNodeset Size: 32\n",
      "Run: 53 \tNodeset Size: 32\n",
      "Run: 54 \tNodeset Size: 32\n",
      "Run: 55 \tNodeset Size: 32\n",
      "Run: 56 \tNodeset Size: 32\n",
      "Run: 57 \tNodeset Size: 32\n",
      "Run: 58 \tNodeset Size: 32\n",
      "Run: 59 \tNodeset Size: 32\n",
      "Run: 60 \tNodeset Size: 63\n",
      "Run: 61 \tNodeset Size: 63\n",
      "Run: 62 \tNodeset Size: 63\n",
      "Run: 63 \tNodeset Size: 63\n",
      "Run: 64 \tNodeset Size: 63\n",
      "Run: 65 \tNodeset Size: 63\n",
      "Run: 66 \tNodeset Size: 63\n",
      "Run: 67 \tNodeset Size: 63\n",
      "Run: 68 \tNodeset Size: 95\n",
      "Run: 69 \tNodeset Size: 95\n",
      "Run: 70 \tNodeset Size: 95\n",
      "Run: 71 \tNodeset Size: 95\n",
      "Run: 72 \tNodeset Size: 95\n",
      "Run: 73 \tNodeset Size: 95\n",
      "Run: 74 \tNodeset Size: 95\n",
      "Run: 75 \tNodeset Size: 95\n",
      "Run: 76 \tNodeset Size: 95\n",
      "Run: 77 \tNodeset Size: 95\n",
      "Run: 78 \tNodeset Size: 95\n",
      "Run: 79 \tNodeset Size: 95\n",
      "Run: 80 \tNodeset Size: 111\n",
      "Run: 81 \tNodeset Size: 111\n",
      "Run: 82 \tNodeset Size: 111\n",
      "Run: 83 \tNodeset Size: 111\n",
      "Run: 84 \tNodeset Size: 111\n",
      "Run: 85 \tNodeset Size: 111\n",
      "Run: 86 \tNodeset Size: 111\n",
      "Run: 87 \tNodeset Size: 111\n",
      "Run: 88 \tNodeset Size: 111\n",
      "Run: 89 \tNodeset Size: 111\n",
      "Run: 90 \tNodeset Size: 143\n",
      "Run: 91 \tNodeset Size: 143\n",
      "Run: 92 \tNodeset Size: 143\n",
      "Run: 93 \tNodeset Size: 143\n",
      "Run: 94 \tNodeset Size: 143\n",
      "Run: 95 \tNodeset Size: 143\n",
      "Run: 96 \tNodeset Size: 143\n",
      "Run: 97 \tNodeset Size: 143\n",
      "Run: 98 \tNodeset Size: 143\n",
      "Run: 99 \tNodeset Size: 143\n",
      "Run: 100 \tNodeset Size: 159\n",
      "Run: 101 \tNodeset Size: 159\n",
      "Run: 102 \tNodeset Size: 159\n",
      "Run: 103 \tNodeset Size: 159\n",
      "Run: 104 \tNodeset Size: 159\n",
      "Run: 105 \tNodeset Size: 159\n",
      "Run: 106 \tNodeset Size: 159\n",
      "Run: 107 \tNodeset Size: 159\n",
      "Run: 108 \tNodeset Size: 159\n",
      "Run: 109 \tNodeset Size: 159\n",
      "Run: 110 \tNodeset Size: 173\n",
      "Run: 111 \tNodeset Size: 173\n",
      "Run: 112 \tNodeset Size: 173\n",
      "Run: 113 \tNodeset Size: 173\n",
      "Run: 114 \tNodeset Size: 173\n",
      "Run: 115 \tNodeset Size: 173\n",
      "Run: 116 \tNodeset Size: 173\n",
      "Run: 117 \tNodeset Size: 173\n",
      "Run: 118 \tNodeset Size: 173\n",
      "Run: 119 \tNodeset Size: 173\n",
      "Run: 120 \tNodeset Size: 189\n",
      "Run: 121 \tNodeset Size: 189\n",
      "Run: 122 \tNodeset Size: 189\n",
      "Run: 123 \tNodeset Size: 189\n",
      "Run: 124 \tNodeset Size: 189\n",
      "Run: 125 \tNodeset Size: 189\n",
      "Run: 126 \tNodeset Size: 189\n",
      "Run: 127 \tNodeset Size: 189\n",
      "Run: 128 \tNodeset Size: 189\n",
      "Run: 129 \tNodeset Size: 189\n",
      "Run: 130 \tNodeset Size: 189\n",
      "Run: 131 \tNodeset Size: 189\n",
      "Run: 132 \tNodeset Size: 189\n",
      "Run: 133 \tNodeset Size: 189\n",
      "Run: 134 \tNodeset Size: 189\n",
      "Run: 135 \tNodeset Size: 189\n",
      "Run: 136 \tNodeset Size: 189\n",
      "Run: 137 \tNodeset Size: 189\n",
      "Run: 138 \tNodeset Size: 189\n",
      "Run: 139 \tNodeset Size: 189\n",
      "Run: 140 \tNodeset Size: 220\n",
      "Run: 141 \tNodeset Size: 220\n",
      "Run: 142 \tNodeset Size: 220\n",
      "Run: 143 \tNodeset Size: 220\n",
      "Run: 144 \tNodeset Size: 220\n",
      "Run: 145 \tNodeset Size: 220\n",
      "Run: 146 \tNodeset Size: 220\n",
      "Run: 147 \tNodeset Size: 220\n",
      "Run: 148 \tNodeset Size: 220\n",
      "Run: 149 \tNodeset Size: 220\n",
      "Run: 150 \tNodeset Size: 223\n",
      "Run: 151 \tNodeset Size: 223\n",
      "Run: 152 \tNodeset Size: 223\n",
      "Run: 153 \tNodeset Size: 223\n",
      "Run: 154 \tNodeset Size: 223\n",
      "Run: 155 \tNodeset Size: 253\n",
      "Run: 156 \tNodeset Size: 253\n",
      "Run: 157 \tNodeset Size: 253\n",
      "Run: 158 \tNodeset Size: 253\n",
      "Run: 159 \tNodeset Size: 253\n",
      "Run: 160 \tNodeset Size: 269\n",
      "Run: 161 \tNodeset Size: 269\n",
      "Run: 162 \tNodeset Size: 269\n",
      "Run: 163 \tNodeset Size: 269\n",
      "Run: 164 \tNodeset Size: 269\n",
      "Run: 165 \tNodeset Size: 286\n",
      "Run: 166 \tNodeset Size: 286\n",
      "Run: 167 \tNodeset Size: 286\n",
      "Run: 168 \tNodeset Size: 286\n",
      "Run: 169 \tNodeset Size: 286\n",
      "Run: 170 \tNodeset Size: 291\n",
      "Run: 171 \tNodeset Size: 291\n",
      "Run: 172 \tNodeset Size: 291\n",
      "Run: 173 \tNodeset Size: 291\n",
      "Run: 174 \tNodeset Size: 291\n",
      "Run: 175 \tNodeset Size: 291\n",
      "Run: 176 \tNodeset Size: 291\n",
      "Run: 177 \tNodeset Size: 291\n",
      "Run: 178 \tNodeset Size: 291\n",
      "Run: 179 \tNodeset Size: 291\n",
      "Run: 180 \tNodeset Size: 291\n",
      "Run: 181 \tNodeset Size: 291\n",
      "Run: 182 \tNodeset Size: 291\n",
      "Run: 183 \tNodeset Size: 291\n",
      "Run: 184 \tNodeset Size: 291\n",
      "Run: 185 \tNodeset Size: 291\n",
      "Run: 186 \tNodeset Size: 291\n",
      "Run: 187 \tNodeset Size: 291\n",
      "Run: 188 \tNodeset Size: 291\n",
      "Run: 189 \tNodeset Size: 291\n",
      "Run: 190 \tNodeset Size: 291\n",
      "Run: 191 \tNodeset Size: 291\n",
      "Run: 192 \tNodeset Size: 291\n",
      "Run: 193 \tNodeset Size: 291\n",
      "Run: 194 \tNodeset Size: 291\n",
      "Run: 195 \tNodeset Size: 291\n",
      "Run: 196 \tNodeset Size: 291\n",
      "Run: 197 \tNodeset Size: 291\n",
      "Run: 198 \tNodeset Size: 291\n",
      "Run: 199 \tNodeset Size: 291\n",
      "Run: 200 \tNodeset Size: 291\n",
      "Run: 201 \tNodeset Size: 291\n",
      "Run: 202 \tNodeset Size: 291\n",
      "Run: 203 \tNodeset Size: 291\n",
      "Run: 204 \tNodeset Size: 291\n",
      "Run: 205 \tNodeset Size: 291\n",
      "Run: 206 \tNodeset Size: 291\n",
      "Run: 207 \tNodeset Size: 291\n",
      "Run: 208 \tNodeset Size: 291\n",
      "Run: 209 \tNodeset Size: 291\n",
      "Run: 210 \tNodeset Size: 297\n",
      "Run: 211 \tNodeset Size: 297\n",
      "Run: 212 \tNodeset Size: 297\n",
      "Run: 213 \tNodeset Size: 297\n",
      "Run: 214 \tNodeset Size: 297\n",
      "Run: 215 \tNodeset Size: 297\n",
      "Run: 216 \tNodeset Size: 297\n",
      "Run: 217 \tNodeset Size: 297\n",
      "Run: 218 \tNodeset Size: 297\n",
      "Run: 219 \tNodeset Size: 297\n",
      "Run: 220 \tNodeset Size: 297\n",
      "Run: 221 \tNodeset Size: 297\n",
      "Run: 222 \tNodeset Size: 297\n",
      "Run: 223 \tNodeset Size: 297\n",
      "Run: 224 \tNodeset Size: 297\n",
      "Run: 225 \tNodeset Size: 297\n",
      "Run: 226 \tNodeset Size: 297\n",
      "Run: 227 \tNodeset Size: 297\n",
      "Run: 228 \tNodeset Size: 297\n",
      "Run: 229 \tNodeset Size: 297\n",
      "Run: 230 \tNodeset Size: 297\n",
      "Run: 231 \tNodeset Size: 297\n",
      "Run: 232 \tNodeset Size: 297\n",
      "Run: 233 \tNodeset Size: 297\n",
      "Run: 234 \tNodeset Size: 297\n",
      "Run: 235 \tNodeset Size: 297\n",
      "Run: 236 \tNodeset Size: 297\n",
      "Run: 237 \tNodeset Size: 297\n",
      "Run: 238 \tNodeset Size: 297\n",
      "Run: 239 \tNodeset Size: 297\n",
      "Run: 240 \tNodeset Size: 297\n",
      "Run: 241 \tNodeset Size: 297\n",
      "Run: 242 \tNodeset Size: 297\n",
      "Run: 243 \tNodeset Size: 297\n",
      "Run: 244 \tNodeset Size: 297\n",
      "Run: 245 \tNodeset Size: 297\n",
      "Run: 246 \tNodeset Size: 297\n",
      "Run: 247 \tNodeset Size: 297\n",
      "Run: 248 \tNodeset Size: 297\n",
      "Run: 249 \tNodeset Size: 297\n",
      "Run: 250 \tNodeset Size: 297\n",
      "Run: 251 \tNodeset Size: 297\n",
      "Run: 252 \tNodeset Size: 297\n",
      "Run: 253 \tNodeset Size: 297\n",
      "Run: 254 \tNodeset Size: 297\n",
      "Run: 255 \tNodeset Size: 297\n",
      "Run: 256 \tNodeset Size: 297\n",
      "Run: 257 \tNodeset Size: 297\n",
      "Run: 258 \tNodeset Size: 297\n",
      "Run: 259 \tNodeset Size: 297\n",
      "Run: 260 \tNodeset Size: 297\n",
      "Run: 261 \tNodeset Size: 297\n",
      "Run: 262 \tNodeset Size: 297\n",
      "Run: 263 \tNodeset Size: 297\n",
      "Run: 264 \tNodeset Size: 297\n",
      "Run: 265 \tNodeset Size: 297\n",
      "Run: 266 \tNodeset Size: 297\n",
      "Run: 267 \tNodeset Size: 297\n",
      "Run: 268 \tNodeset Size: 297\n",
      "Run: 269 \tNodeset Size: 297\n",
      "Run: 270 \tNodeset Size: 297\n",
      "Run: 271 \tNodeset Size: 297\n",
      "Run: 272 \tNodeset Size: 297\n",
      "Run: 273 \tNodeset Size: 297\n",
      "Run: 274 \tNodeset Size: 297\n",
      "Run: 275 \tNodeset Size: 297\n",
      "Run: 276 \tNodeset Size: 297\n",
      "Run: 277 \tNodeset Size: 297\n",
      "Run: 278 \tNodeset Size: 297\n",
      "Run: 279 \tNodeset Size: 297\n",
      "Run: 280 \tNodeset Size: 297\n",
      "Run: 281 \tNodeset Size: 297\n",
      "Run: 282 \tNodeset Size: 297\n",
      "Run: 283 \tNodeset Size: 297\n",
      "Run: 284 \tNodeset Size: 297\n",
      "Run: 285 \tNodeset Size: 297\n",
      "Run: 286 \tNodeset Size: 297\n",
      "Run: 287 \tNodeset Size: 297\n",
      "Run: 288 \tNodeset Size: 297\n",
      "Run: 289 \tNodeset Size: 297\n",
      "Run: 290 \tNodeset Size: 305\n",
      "Run: 291 \tNodeset Size: 305\n",
      "Run: 292 \tNodeset Size: 305\n",
      "Run: 293 \tNodeset Size: 305\n",
      "Run: 294 \tNodeset Size: 305\n",
      "Run: 295 \tNodeset Size: 312\n",
      "Run: 296 \tNodeset Size: 312\n",
      "Run: 297 \tNodeset Size: 312\n",
      "Run: 298 \tNodeset Size: 312\n",
      "Run: 299 \tNodeset Size: 312\n",
      "Run: 300 \tNodeset Size: 312\n"
     ]
    },
    {
     "name": "stdout",
     "output_type": "stream",
     "text": [
      "Run: 301 \tNodeset Size: 312\n",
      "Run: 302 \tNodeset Size: 312\n",
      "Run: 303 \tNodeset Size: 312\n",
      "Run: 304 \tNodeset Size: 312\n",
      "Run: 305 \tNodeset Size: 312\n",
      "Run: 306 \tNodeset Size: 312\n",
      "Run: 307 \tNodeset Size: 312\n",
      "Run: 308 \tNodeset Size: 312\n",
      "Run: 309 \tNodeset Size: 312\n",
      "Run: 310 \tNodeset Size: 319\n",
      "Run: 311 \tNodeset Size: 319\n",
      "Run: 312 \tNodeset Size: 319\n",
      "Run: 313 \tNodeset Size: 319\n",
      "Run: 314 \tNodeset Size: 319\n",
      "Run: 315 \tNodeset Size: 319\n",
      "Run: 316 \tNodeset Size: 319\n",
      "Run: 317 \tNodeset Size: 319\n",
      "Run: 318 \tNodeset Size: 319\n",
      "Run: 319 \tNodeset Size: 319\n",
      "Run: 320 \tNodeset Size: 319\n",
      "Run: 321 \tNodeset Size: 319\n",
      "Run: 322 \tNodeset Size: 319\n",
      "Run: 323 \tNodeset Size: 319\n",
      "Run: 324 \tNodeset Size: 319\n",
      "Run: 325 \tNodeset Size: 319\n",
      "Run: 326 \tNodeset Size: 319\n",
      "Run: 327 \tNodeset Size: 319\n",
      "Run: 328 \tNodeset Size: 319\n",
      "Run: 329 \tNodeset Size: 319\n",
      "Unique Attaway Xeon Gold Nodes: 319 / 1488\n"
     ]
    }
   ],
   "source": [
    "nodeset = set()\n",
    "nodedict = dict()\n",
    "\n",
    "for run in range(0, len(df_Attaway)):\n",
    "    data = analysis.getData(df_Attaway.iloc[run])\n",
    "    nodes =  data['node'].unique()\n",
    "    \n",
    "    for node in nodes:\n",
    "        if node not in nodedict:\n",
    "            nodedict[node] = 1\n",
    "        else:\n",
    "            nodedict[node] += 1\n",
    "            \n",
    "        nodeset.add(node)\n",
    "        \n",
    "    print(\"Run:\", run, \"\\tNodeset Size:\", len(nodeset))\n",
    "\n",
    "print(\"Unique Attaway Xeon Gold Nodes:\", len(nodeset), \"/\", 1488)\n",
    "\n",
    "nodes_Attaway = { int(k.replace('swa', '')): v for k, v in nodes_Attaway.items() }\n",
    "\n",
    "with open('Results/AttawayNodes.dict', 'wb') as f:\n",
    "    pickle.dump(nodedict, f, pickle.HIGHEST_PROTOCOL)"
   ]
  },
  {
   "cell_type": "code",
   "execution_count": 3,
   "metadata": {},
   "outputs": [],
   "source": [
    "nodes_Cori = pickle.load( open( \"Results/CoriNodes.dict\", \"rb\" ) )\n",
    "nodes_Attaway = pickle.load( open( \"Results/AttawayNodes.dict\", \"rb\" ) )"
   ]
  },
  {
   "cell_type": "markdown",
   "metadata": {},
   "source": [
    "### Heat Map of Runs by Node ID on Cori"
   ]
  },
  {
   "cell_type": "code",
   "execution_count": 4,
   "metadata": {},
   "outputs": [
    {
     "data": {
      "image/png": "[encoded data removed]",
      "text/plain": [
       "<Figure size 576x576 with 2 Axes>"
      ]
     },
     "metadata": {
      "needs_background": "light"
     },
     "output_type": "display_data"
    }
   ],
   "source": [
    "# for key, value in sorted(nodes_Cori.items(), key=lambda x: x[0]): \n",
    "#     print(\"{} : {}\".format(key, value))\n",
    "\n",
    "heatmap_cori = np.zeros((50, 48))\n",
    "count = 0\n",
    "for i in range(0, 50):\n",
    "    for j in range(0, 48):\n",
    "        \n",
    "        nid = 48 * i + j\n",
    "        \n",
    "        if nid <= 1677:\n",
    "            nid = nid + 627\n",
    "        elif nid > 1677:\n",
    "            nid = nid + 10795\n",
    "        \n",
    "        if nid in nodes_Cori:\n",
    "            count = count + 1\n",
    "\n",
    "            heatmap_cori[i, j] = nodes_Cori[nid]\n",
    "        else:\n",
    "            heatmap_cori[i, j] = 0\n",
    "            \n",
    "# print(count)  \n",
    "\n",
    "plt.figure(figsize=(8, 8))\n",
    "plt.title('Frequency of Runs on Each of the 2388 Cori Haswell Nodes')\n",
    "plt.imshow(heatmap_cori, cmap='hot', interpolation='nearest')\n",
    "plt.xlim([0, 48])\n",
    "plt.ylim([0, 50])\n",
    "cbar = plt.colorbar(plt.pcolor(heatmap_cori))\n",
    "_ = cbar.ax.set_ylabel('Number of Runs', rotation=270, labelpad=12)\n",
    "\n",
    "plt.savefig('Figures/CoriCoverage.png')"
   ]
  },
  {
   "cell_type": "markdown",
   "metadata": {},
   "source": [
    "### Heat Map of Runs by Node ID on Attaway"
   ]
  },
  {
   "cell_type": "code",
   "execution_count": 5,
   "metadata": {},
   "outputs": [
    {
     "data": {
      "image/png": "[encoded data removed]",
      "text/plain": [
       "<Figure size 720x432 with 2 Axes>"
      ]
     },
     "metadata": {
      "needs_background": "light"
     },
     "output_type": "display_data"
    }
   ],
   "source": [
    "# for key, value in sorted(nodes_Attaway.items(), key=lambda x: x[0]): \n",
    "#     print(\"{} : {}\".format(key, value))\n",
    "\n",
    "heatmap_attaway = np.zeros((31, 48))\n",
    "count = 0\n",
    "for i in range(0, 31):\n",
    "    for j in range(0, 48):\n",
    "        \n",
    "        nid = 48 * i + j\n",
    "        \n",
    "        if nid in nodes_Attaway:\n",
    "            count = count + 1\n",
    "\n",
    "            heatmap_attaway[i, j] = nodes_Attaway[nid]\n",
    "        else:\n",
    "            heatmap_attaway[i, j] = 0\n",
    "            \n",
    "# print(count)  \n",
    "\n",
    "plt.figure(figsize=(10, 6))\n",
    "plt.title('Frequency of Runs on Each of the 1488 Attaway Xeon Gold Nodes')\n",
    "plt.imshow(heatmap_attaway, cmap='hot', interpolation='nearest')\n",
    "plt.xlim([0, 48])\n",
    "plt.ylim([0, 31])\n",
    "cbar = plt.colorbar(plt.pcolor(heatmap_attaway))\n",
    "_ = cbar.ax.set_ylabel('Number of Runs', rotation=270, labelpad=15)\n",
    "\n",
    "plt.savefig('Figures/AttawayCoverage.png')"
   ]
  },
  {
   "cell_type": "markdown",
   "metadata": {},
   "source": [
    "### Iteration Time (Workload_Usec) of Attaway DGemm Run"
   ]
  },
  {
   "cell_type": "code",
   "execution_count": 6,
   "metadata": {},
   "outputs": [],
   "source": [
    "df_Cori_Dgemm = df_Cori[(df_Cori['workload'] == 'dgemm') & (df_Cori['stencil_size'] == 0) & (df_Cori['processors'] == 2048)]\n",
    "dgemm_data = analysis.getData(df_Cori_Dgemm.iloc[1])"
   ]
  },
  {
   "cell_type": "code",
   "execution_count": 128,
   "metadata": {},
   "outputs": [
    {
     "data": {
      "text/plain": [
       "[<matplotlib.lines.Line2D at 0x2b2b6215a050>]"
      ]
     },
     "execution_count": 128,
     "metadata": {},
     "output_type": "execute_result"
    },
    {
     "data": {
      "image/png": "[encoded data removed]",
      "text/plain": [
       "<Figure size 432x288 with 1 Axes>"
      ]
     },
     "metadata": {
      "needs_background": "light"
     },
     "output_type": "display_data"
    }
   ],
   "source": [
    "rankData = dgemm_data[(dgemm_data['rank']==0)]\n",
    "plt.plot(rankData['iteration'], rankData['workload_usec'], 'o')"
   ]
  },
  {
   "cell_type": "markdown",
   "metadata": {},
   "source": [
    "### Iteration Time (Workload_Usec) of Attaway DGemm Run"
   ]
  },
  {
   "cell_type": "code",
   "execution_count": 8,
   "metadata": {},
   "outputs": [],
   "source": [
    "df_Attaway_Dgemm = df_Attaway[(df_Attaway['workload'] == 'dgemm') & (df_Attaway['stencil_size'] == 0) & (df_Attaway['processors'] == 1024)]\n",
    "\n",
    "dgemm_data = analysis.getData(df_Attaway_Dgemm.iloc[1])"
   ]
  },
  {
   "cell_type": "code",
   "execution_count": 140,
   "metadata": {},
   "outputs": [
    {
     "data": {
      "text/plain": [
       "[<matplotlib.lines.Line2D at 0x2b2b62244190>]"
      ]
     },
     "execution_count": 140,
     "metadata": {},
     "output_type": "execute_result"
    },
    {
     "data": {
      "image/png": "[encoded data removed]",
      "text/plain": [
       "<Figure size 432x288 with 1 Axes>"
      ]
     },
     "metadata": {
      "needs_background": "light"
     },
     "output_type": "display_data"
    }
   ],
   "source": [
    "rankData = dgemm_data[(dgemm_data['rank']==23)]\n",
    "plt.plot(rankData['iteration'], rankData['workload_usec'], 'o')"
   ]
  },
  {
   "cell_type": "markdown",
   "metadata": {},
   "source": [
    "### Barrier Time (Interval Max - Workload Max) of Cori DGemm Run"
   ]
  },
  {
   "cell_type": "code",
   "execution_count": 21,
   "metadata": {},
   "outputs": [],
   "source": [
    "dgemm_data_Cori = analysis.getData(df_Cori_Dgemm.iloc[1])\n",
    "dgemm_data_Cori = dgemm_data_Cori[dgemm_data_Cori['rank']==0]\n",
    "\n",
    "dgemm_data_Attaway = analysis.getData(df_Attaway_Dgemm.iloc[1])\n",
    "dgemm_data_Attaway = dgemm_data_Attaway[dgemm_data_Attaway['rank']==0]"
   ]
  },
  {
   "cell_type": "code",
   "execution_count": 31,
   "metadata": {},
   "outputs": [
    {
     "name": "stdout",
     "output_type": "stream",
     "text": [
      "837642.401056\n",
      "819468.3480880001\n",
      "71.71574799999688\n",
      "15.310078000003704\n"
     ]
    },
    {
     "data": {
      "image/png": "[encoded data removed]",
      "text/plain": [
       "<Figure size 720x360 with 2 Axes>"
      ]
     },
     "metadata": {
      "needs_background": "light"
     },
     "output_type": "display_data"
    }
   ],
   "source": [
    "fig, axs = plt.subplots(1, 2, figsize=(10,5))\n",
    "\n",
    "axs[0].plot(dgemm_data_Cori['iteration'], abs(dgemm_data_Cori['interval_max_usec'] - dgemm_data_Cori['workload_max_usec']), 'o', color='blue')\n",
    "axs[0].set_xlabel('Iteration')\n",
    "axs[0].set_ylabel('Barrier Time (microseconds)')\n",
    "axs[0].set_title('Sample Cori DGEMM at 2048 Ranks')\n",
    "\n",
    "axs[1].plot(dgemm_data_Attaway['iteration'], abs(dgemm_data_Attaway['interval_max_usec'] - dgemm_data_Attaway['workload_max_usec']), 'o', color='orange')\n",
    "axs[1].set_xlabel('Iteration')\n",
    "axs[1].set_ylabel('Barrier Time (microseconds)')\n",
    "axs[1].set_title('Sample Attaway DGEMM at 1024 Ranks')\n",
    "\n",
    "plt.savefig('Figures/Validation.png', bbox_inches='tight')\n",
    "\n",
    "print(np.mean(abs(dgemm_data_Cori['interval_max_usec'])))\n",
    "print(np.mean(abs(dgemm_data_Attaway['interval_max_usec'])))\n",
    "print(np.mean(abs(dgemm_data_Cori['interval_max_usec'] - dgemm_data_Cori['workload_max_usec'])))\n",
    "print(np.mean(abs(dgemm_data_Attaway['interval_max_usec'] - dgemm_data_Attaway['workload_max_usec'])))"
   ]
  },
  {
   "cell_type": "markdown",
   "metadata": {},
   "source": [
    "### Barrier Time (Interval Max - Workload Max) of Attaway DGemm Run"
   ]
  },
  {
   "cell_type": "code",
   "execution_count": 143,
   "metadata": {},
   "outputs": [],
   "source": []
  },
  {
   "cell_type": "code",
   "execution_count": 146,
   "metadata": {},
   "outputs": [
    {
     "data": {
      "text/plain": [
       "[<matplotlib.lines.Line2D at 0x2b2b622987d0>]"
      ]
     },
     "execution_count": 146,
     "metadata": {},
     "output_type": "execute_result"
    },
    {
     "data": {
      "image/png": "[encoded data removed]",
      "text/plain": [
       "<Figure size 432x288 with 1 Axes>"
      ]
     },
     "metadata": {
      "needs_background": "light"
     },
     "output_type": "display_data"
    }
   ],
   "source": [
    "plt.plot(dgemm_data['iteration'], abs(dgemm_data['interval_max_usec'] - dgemm_data['workload_max_usec']), 'o')"
   ]
  },
  {
   "cell_type": "code",
   "execution_count": null,
   "metadata": {},
   "outputs": [],
   "source": []
  }
 ],
 "metadata": {
  "kernelspec": {
   "display_name": "Python [conda env:.conda-gev-mlflow]",
   "language": "python",
   "name": "conda-env-.conda-gev-mlflow-py"
  },
  "language_info": {
   "codemirror_mode": {
    "name": "ipython",
    "version": 3
   },
   "file_extension": ".py",
   "mimetype": "text/x-python",
   "name": "python",
   "nbconvert_exporter": "python",
   "pygments_lexer": "ipython3",
   "version": "3.7.5"
  }
 },
 "nbformat": 4,
 "nbformat_minor": 2
}
